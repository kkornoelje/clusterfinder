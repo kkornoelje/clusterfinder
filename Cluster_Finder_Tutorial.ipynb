{
 "cells": [
  {
   "cell_type": "markdown",
   "id": "daeae434",
   "metadata": {
    "toc": true
   },
   "source": [
    "<h1>Table of Contents<span class=\"tocSkip\"></span></h1>\n",
    "<div class=\"toc\"><ul class=\"toc-item\"><li><span><a href=\"#Step-1:-Gather-Inputs\" data-toc-modified-id=\"Step-1:-Gather-Inputs-1\"><span class=\"toc-item-num\">1&nbsp;&nbsp;</span>Step 1: Gather Inputs</a></span><ul class=\"toc-item\"><li><span><a href=\"#Step-1.1:-Loading-in-google-doc:\" data-toc-modified-id=\"Step-1.1:-Loading-in-google-doc:-1.1\"><span class=\"toc-item-num\">1.1&nbsp;&nbsp;</span>Step 1.1: Loading in google doc:</a></span></li></ul></li><li><span><a href=\"#Step-2:-Run-the-Cluster-Finder-Wrapper\" data-toc-modified-id=\"Step-2:-Run-the-Cluster-Finder-Wrapper-2\"><span class=\"toc-item-num\">2&nbsp;&nbsp;</span>Step 2: Run the Cluster Finder Wrapper</a></span></li><li><span><a href=\"#Step-3:-Run-Cluster-Finder\" data-toc-modified-id=\"Step-3:-Run-Cluster-Finder-3\"><span class=\"toc-item-num\">3&nbsp;&nbsp;</span>Step 3: Run Cluster Finder</a></span></li><li><span><a href=\"#Cluster-Crossmatching\" data-toc-modified-id=\"Cluster-Crossmatching-4\"><span class=\"toc-item-num\">4&nbsp;&nbsp;</span>Cluster Crossmatching</a></span></li><li><span><a href=\"#Source-Subtraction\" data-toc-modified-id=\"Source-Subtraction-5\"><span class=\"toc-item-num\">5&nbsp;&nbsp;</span>Source Subtraction</a></span></li></ul></div>"
   ]
  },
  {
   "cell_type": "code",
   "execution_count": 1,
   "id": "83ee8e75",
   "metadata": {
    "ExecuteTime": {
     "end_time": "2023-12-07T16:55:22.905021Z",
     "start_time": "2023-12-07T16:55:18.176194Z"
    }
   },
   "outputs": [],
   "source": [
    "import sys\n",
    "sys.path.append(\"/home/kaylank/pipelines/\")\n",
    "import clusterfinder\n",
    "import clusterfinder_wrapper\n",
    "\n",
    "import importlib\n",
    "importlib.reload(clusterfinder)\n",
    "\n",
    "sys.path.append(\"/home/kaylank/imports\")\n",
    "from imports import *"
   ]
  },
  {
   "cell_type": "markdown",
   "id": "f444202d",
   "metadata": {},
   "source": [
    "# Step 1: Gather Inputs\n",
    "\n",
    "\n",
    "\n",
    "\n"
   ]
  },
  {
   "cell_type": "markdown",
   "id": "5290fbcc",
   "metadata": {},
   "source": [
    "For my own convenience, the cluster finder reads in the files that will be used for cluster finding from a google doc. An example google doc is given below:<br><br>\n",
    "\n",
    "https://docs.google.com/spreadsheets/d/1UtTrfYu7b_NMYQuqo10HpE_IDDOWXM9pFxbQNKHn5qw/edit#gid=0<br><br>\n",
    "The headers are as follows:<br><br>\n",
    "Field Name: This is the name you tell the cluster finder when you want to run maps. (You'll see below)<br><br>\n",
    "Titles: This is the name you give when using plotting functions<br><br>\n",
    "\n",
    "Tcal: The Tcal factor for the map (put 1 if you're not sure what it is)<br><br>\n",
    "Ra_cent: The center RA of the field<br><br>\n",
    "Dec_cent: The center DEC of the field<br><br>\n",
    "\n",
    "Ra_offset and Dec_offset: You should default this to 0. This is just in case you suspect there is any miscentering between maps<br><br>\n",
    "sz_band_centers: The band center for the tSZ effect (Assumes units in GHz)<br><br>\n",
    "\n",
    "map_files: the path to the map. Currently, I accept .sav, .fits, and .bin/.pkl files. Working on adding .g3. Cluster finder assumes that the maps are in real uK (not spt3g units, not weighted), so please convert accordingly. <br><br>\n",
    "\n",
    "beam_files: Path to the beam file. Currently accepts .sav, .fits, .txt/.tsv files. For .sav and .fits, cluster finder assumes this is a fourier space beam. For .txt/.tsz, please format it as a list of ell and cl values<br><br>\n",
    "\n",
    "Cluster finder will also generate a theoretical beam given some fwhm and lpf,hpf, and isohpf values. <br><br>\n",
    "\n",
    "instrumental_noise_files: Path to the instrumental noise file. Assumes this is a fourier space map in uK.<br><br>\n",
    "\n",
    "janksy_conversion: The cluster finder can run in units of uK or Mjy. 'Janksy conversion' is the conversion factor between uk and Mjy. Can just put 1 if you're going to run in uK<br><br>\n",
    "\n",
    "to_uk: Conversion from map in uK to Mjy, just had this for the Herschel maps. Just put 1 if you're not using maps in Mjy. <br><br>\n",
    "\n",
    "source_sub_files: Path to the source subtraction file, if you're source subtracting. Can put None if you're not<br><br>\n",
    "\n"
   ]
  },
  {
   "cell_type": "markdown",
   "id": "d25fb4f6",
   "metadata": {},
   "source": [
    "## Step 1.1: Loading in google doc:"
   ]
  },
  {
   "cell_type": "markdown",
   "id": "338c5f53",
   "metadata": {},
   "source": [
    "In order to read the google doc into python, fill out the info below. But, before you do, make sure to make the google doc public (ie, set the permission to 'anyone with a link: viewer')<br><br>\n",
    "\n",
    "SHEET_ID is in the url. For instance, the full url is:<br><br>\n",
    "https://docs.google.com/spreadsheets/d/19OsHcgAfuGnpIkg6zos1yCpsu8lEIPPfIqtRBQs7r20/edit#gid=0<br><br>\n",
    "SHEET_ID will be what is in between '/d/' and /'edit'#grd=0<br>\n",
    "SHEET_NAME is the title of the google doc"
   ]
  },
  {
   "cell_type": "code",
   "execution_count": 2,
   "id": "02822931",
   "metadata": {
    "ExecuteTime": {
     "end_time": "2023-12-07T16:55:24.878021Z",
     "start_time": "2023-12-07T16:55:24.873957Z"
    }
   },
   "outputs": [],
   "source": [
    "SHEET_ID = '1UtTrfYu7b_NMYQuqo10HpE_IDDOWXM9pFxbQNKHn5qw'\n",
    "SHEET_NAME = 'Example_ClusterFinder_doc'"
   ]
  },
  {
   "cell_type": "markdown",
   "id": "005ec325",
   "metadata": {},
   "source": [
    "# Step 2: Run the Cluster Finder Wrapper\n"
   ]
  },
  {
   "cell_type": "code",
   "execution_count": 3,
   "id": "0183492a",
   "metadata": {
    "ExecuteTime": {
     "end_time": "2023-12-07T16:55:26.620554Z",
     "start_time": "2023-12-07T16:55:26.099448Z"
    }
   },
   "outputs": [],
   "source": [
    "#These functions below auto update the source .py files to automatically include changes made without restarting the kernal\n",
    "import clusterfinder_wrapper\n",
    "importlib.reload(clusterfinder_wrapper)\n",
    "import clusterfinder_wrapper\n",
    "\n",
    "#This is the initialization function\n",
    "wi = clusterfinder_wrapper.wrap_inputs(SHEET_ID,SHEET_NAME,units='uk')"
   ]
  },
  {
   "cell_type": "markdown",
   "id": "290f08d9",
   "metadata": {},
   "source": [
    "This initializes the 'cluster finder wrapper' class function. The purpose of this class function is to wrap up the inputs given in the google doc into a format that can directly feed into the cluster finder class function. If you're not familar with class functions, some important points to note are:\n",
    "\n",
    "Variables saved into the class function can be accessed by accessing the class that holds the variable and a period. For instance, above, we defined the cluster finder wrapped as 'wi'. So variables can be found in wi.{variable_name}. If you don't know what variables the class function stores, type wi. and press tab. That will give you a list of variables currently contained in the function. Examples are below:"
   ]
  },
  {
   "cell_type": "code",
   "execution_count": 4,
   "id": "765d3c9f",
   "metadata": {
    "ExecuteTime": {
     "end_time": "2023-12-07T16:55:28.143149Z",
     "start_time": "2023-12-07T16:55:28.137224Z"
    }
   },
   "outputs": [
    {
     "name": "stdout",
     "output_type": "stream",
     "text": [
      "SHEET ID: 1UtTrfYu7b_NMYQuqo10HpE_IDDOWXM9pFxbQNKHn5qw\n",
      "SHEET NAME: Example_ClusterFinder_doc\n"
     ]
    }
   ],
   "source": [
    "#This will store the variables we just gave it above\n",
    "wi_sheet_id = wi.SHEET_ID\n",
    "wi_sheet_name = wi.SHEET_NAME\n",
    "print('SHEET ID:', wi_sheet_id)\n",
    "print('SHEET NAME:', wi_sheet_name)"
   ]
  },
  {
   "cell_type": "markdown",
   "id": "c5beeeca",
   "metadata": {},
   "source": [
    "Here is the full wrapper function. Try running it."
   ]
  },
  {
   "cell_type": "code",
   "execution_count": 5,
   "id": "ee15aff3",
   "metadata": {
    "ExecuteTime": {
     "end_time": "2023-12-07T16:55:31.313858Z",
     "start_time": "2023-12-07T16:55:29.643906Z"
    }
   },
   "outputs": [
    {
     "name": "stdout",
     "output_type": "stream",
     "text": [
      "Initializing map making.\n",
      "Starting Map:  /sptlocal/user/kaylank/data/megaclusters_inputs/reformatted/maps/spt3g_90GHz_full.fits\n",
      "Starting Map:  /sptlocal/user/kaylank/data/megaclusters_inputs/reformatted/maps/spt3g_150GHz_full.fits\n",
      "Starting Map:  /sptlocal/user/kaylank/data/megaclusters_inputs/reformatted/maps/spt3g_220GHz_full.fits\n",
      " \n",
      " \n",
      "Starting Beam:  /sptlocal/user/kaylank/data/megaclusters_inputs/reformatted/beams/SPT3G2020_90GHz_beam.tsv\n"
     ]
    },
    {
     "ename": "FileNotFoundError",
     "evalue": "[Errno 2] No such file or directory: '/sptlocal/user/kaylank/data/megaclusters_inputs/reformatted/beams/SPT3G2020_90GHz_beam.tsv'",
     "output_type": "error",
     "traceback": [
      "\u001b[0;31m---------------------------------------------------------------------------\u001b[0m",
      "\u001b[0;31mFileNotFoundError\u001b[0m                         Traceback (most recent call last)",
      "\u001b[0;32m/tmp/ipykernel_1904614/3552218960.py\u001b[0m in \u001b[0;36m<module>\u001b[0;34m\u001b[0m\n\u001b[1;32m     10\u001b[0m                  apod_size = 10,radius_arcmin=30,units='uk')\n\u001b[1;32m     11\u001b[0m \u001b[0;34m\u001b[0m\u001b[0m\n\u001b[0;32m---> 12\u001b[0;31m \u001b[0mwi\u001b[0m\u001b[0;34m.\u001b[0m\u001b[0mwrap_beams\u001b[0m\u001b[0;34m(\u001b[0m\u001b[0;34m)\u001b[0m\u001b[0;34m\u001b[0m\u001b[0;34m\u001b[0m\u001b[0m\n\u001b[0m\u001b[1;32m     13\u001b[0m \u001b[0mwi\u001b[0m\u001b[0;34m.\u001b[0m\u001b[0mwrap_instrumental_noise\u001b[0m\u001b[0;34m(\u001b[0m\u001b[0;34m)\u001b[0m\u001b[0;34m\u001b[0m\u001b[0;34m\u001b[0m\u001b[0m\n\u001b[1;32m     14\u001b[0m \u001b[0mwi\u001b[0m\u001b[0;34m.\u001b[0m\u001b[0mfinish_wrapping\u001b[0m\u001b[0;34m(\u001b[0m\u001b[0;34m)\u001b[0m\u001b[0;34m\u001b[0m\u001b[0;34m\u001b[0m\u001b[0m\n",
      "\u001b[0;32m~/pipelines/clusterfinder_wrapper.py\u001b[0m in \u001b[0;36mwrap_beams\u001b[0;34m(self, add_transfer, theory, lpf, hpf, isohpf, fwhm)\u001b[0m\n\u001b[1;32m    228\u001b[0m \u001b[0;34m\u001b[0m\u001b[0m\n\u001b[1;32m    229\u001b[0m                 \u001b[0;32melif\u001b[0m \u001b[0;34m'.tsv'\u001b[0m \u001b[0;32min\u001b[0m \u001b[0mb\u001b[0m \u001b[0;32mor\u001b[0m \u001b[0;34m'.txt'\u001b[0m \u001b[0;32min\u001b[0m \u001b[0mb\u001b[0m\u001b[0;34m:\u001b[0m\u001b[0;34m\u001b[0m\u001b[0;34m\u001b[0m\u001b[0m\n\u001b[0;32m--> 230\u001b[0;31m                     \u001b[0mbeams\u001b[0m \u001b[0;34m=\u001b[0m \u001b[0mpd\u001b[0m\u001b[0;34m.\u001b[0m\u001b[0mread_csv\u001b[0m\u001b[0;34m(\u001b[0m\u001b[0mb\u001b[0m\u001b[0;34m,\u001b[0m\u001b[0mdelim_whitespace\u001b[0m\u001b[0;34m=\u001b[0m\u001b[0;32mTrue\u001b[0m\u001b[0;34m,\u001b[0m\u001b[0mcomment\u001b[0m\u001b[0;34m=\u001b[0m\u001b[0;34m'#'\u001b[0m\u001b[0;34m,\u001b[0m\u001b[0mnames\u001b[0m\u001b[0;34m=\u001b[0m\u001b[0;34m[\u001b[0m\u001b[0;34m'ell'\u001b[0m\u001b[0;34m,\u001b[0m\u001b[0;34m'cl'\u001b[0m\u001b[0;34m]\u001b[0m\u001b[0;34m)\u001b[0m\u001b[0;34m\u001b[0m\u001b[0;34m\u001b[0m\u001b[0m\n\u001b[0m\u001b[1;32m    231\u001b[0m                     \u001b[0mbeam_ell\u001b[0m \u001b[0;34m=\u001b[0m \u001b[0mbeams\u001b[0m\u001b[0;34m[\u001b[0m\u001b[0;34m'ell'\u001b[0m\u001b[0;34m]\u001b[0m\u001b[0;34m\u001b[0m\u001b[0;34m\u001b[0m\u001b[0m\n\u001b[1;32m    232\u001b[0m                     \u001b[0mbeam_cl\u001b[0m \u001b[0;34m=\u001b[0m \u001b[0mbeams\u001b[0m\u001b[0;34m[\u001b[0m\u001b[0;34m'cl'\u001b[0m\u001b[0;34m]\u001b[0m\u001b[0;34m\u001b[0m\u001b[0;34m\u001b[0m\u001b[0m\n",
      "\u001b[0;32m/cvmfs/spt.opensciencegrid.org/py3-v4/RHEL_7_x86_64/lib/python3.10/site-packages/pandas/util/_decorators.py\u001b[0m in \u001b[0;36mwrapper\u001b[0;34m(*args, **kwargs)\u001b[0m\n\u001b[1;32m    309\u001b[0m                     \u001b[0mstacklevel\u001b[0m\u001b[0;34m=\u001b[0m\u001b[0mstacklevel\u001b[0m\u001b[0;34m,\u001b[0m\u001b[0;34m\u001b[0m\u001b[0;34m\u001b[0m\u001b[0m\n\u001b[1;32m    310\u001b[0m                 )\n\u001b[0;32m--> 311\u001b[0;31m             \u001b[0;32mreturn\u001b[0m \u001b[0mfunc\u001b[0m\u001b[0;34m(\u001b[0m\u001b[0;34m*\u001b[0m\u001b[0margs\u001b[0m\u001b[0;34m,\u001b[0m \u001b[0;34m**\u001b[0m\u001b[0mkwargs\u001b[0m\u001b[0;34m)\u001b[0m\u001b[0;34m\u001b[0m\u001b[0;34m\u001b[0m\u001b[0m\n\u001b[0m\u001b[1;32m    312\u001b[0m \u001b[0;34m\u001b[0m\u001b[0m\n\u001b[1;32m    313\u001b[0m         \u001b[0;32mreturn\u001b[0m \u001b[0mwrapper\u001b[0m\u001b[0;34m\u001b[0m\u001b[0;34m\u001b[0m\u001b[0m\n",
      "\u001b[0;32m/cvmfs/spt.opensciencegrid.org/py3-v4/RHEL_7_x86_64/lib/python3.10/site-packages/pandas/io/parsers/readers.py\u001b[0m in \u001b[0;36mread_csv\u001b[0;34m(filepath_or_buffer, sep, delimiter, header, names, index_col, usecols, squeeze, prefix, mangle_dupe_cols, dtype, engine, converters, true_values, false_values, skipinitialspace, skiprows, skipfooter, nrows, na_values, keep_default_na, na_filter, verbose, skip_blank_lines, parse_dates, infer_datetime_format, keep_date_col, date_parser, dayfirst, cache_dates, iterator, chunksize, compression, thousands, decimal, lineterminator, quotechar, quoting, doublequote, escapechar, comment, encoding, encoding_errors, dialect, error_bad_lines, warn_bad_lines, on_bad_lines, delim_whitespace, low_memory, memory_map, float_precision, storage_options)\u001b[0m\n\u001b[1;32m    584\u001b[0m     \u001b[0mkwds\u001b[0m\u001b[0;34m.\u001b[0m\u001b[0mupdate\u001b[0m\u001b[0;34m(\u001b[0m\u001b[0mkwds_defaults\u001b[0m\u001b[0;34m)\u001b[0m\u001b[0;34m\u001b[0m\u001b[0;34m\u001b[0m\u001b[0m\n\u001b[1;32m    585\u001b[0m \u001b[0;34m\u001b[0m\u001b[0m\n\u001b[0;32m--> 586\u001b[0;31m     \u001b[0;32mreturn\u001b[0m \u001b[0m_read\u001b[0m\u001b[0;34m(\u001b[0m\u001b[0mfilepath_or_buffer\u001b[0m\u001b[0;34m,\u001b[0m \u001b[0mkwds\u001b[0m\u001b[0;34m)\u001b[0m\u001b[0;34m\u001b[0m\u001b[0;34m\u001b[0m\u001b[0m\n\u001b[0m\u001b[1;32m    587\u001b[0m \u001b[0;34m\u001b[0m\u001b[0m\n\u001b[1;32m    588\u001b[0m \u001b[0;34m\u001b[0m\u001b[0m\n",
      "\u001b[0;32m/cvmfs/spt.opensciencegrid.org/py3-v4/RHEL_7_x86_64/lib/python3.10/site-packages/pandas/io/parsers/readers.py\u001b[0m in \u001b[0;36m_read\u001b[0;34m(filepath_or_buffer, kwds)\u001b[0m\n\u001b[1;32m    480\u001b[0m \u001b[0;34m\u001b[0m\u001b[0m\n\u001b[1;32m    481\u001b[0m     \u001b[0;31m# Create the parser.\u001b[0m\u001b[0;34m\u001b[0m\u001b[0;34m\u001b[0m\u001b[0m\n\u001b[0;32m--> 482\u001b[0;31m     \u001b[0mparser\u001b[0m \u001b[0;34m=\u001b[0m \u001b[0mTextFileReader\u001b[0m\u001b[0;34m(\u001b[0m\u001b[0mfilepath_or_buffer\u001b[0m\u001b[0;34m,\u001b[0m \u001b[0;34m**\u001b[0m\u001b[0mkwds\u001b[0m\u001b[0;34m)\u001b[0m\u001b[0;34m\u001b[0m\u001b[0;34m\u001b[0m\u001b[0m\n\u001b[0m\u001b[1;32m    483\u001b[0m \u001b[0;34m\u001b[0m\u001b[0m\n\u001b[1;32m    484\u001b[0m     \u001b[0;32mif\u001b[0m \u001b[0mchunksize\u001b[0m \u001b[0;32mor\u001b[0m \u001b[0miterator\u001b[0m\u001b[0;34m:\u001b[0m\u001b[0;34m\u001b[0m\u001b[0;34m\u001b[0m\u001b[0m\n",
      "\u001b[0;32m/cvmfs/spt.opensciencegrid.org/py3-v4/RHEL_7_x86_64/lib/python3.10/site-packages/pandas/io/parsers/readers.py\u001b[0m in \u001b[0;36m__init__\u001b[0;34m(self, f, engine, **kwds)\u001b[0m\n\u001b[1;32m    809\u001b[0m             \u001b[0mself\u001b[0m\u001b[0;34m.\u001b[0m\u001b[0moptions\u001b[0m\u001b[0;34m[\u001b[0m\u001b[0;34m\"has_index_names\"\u001b[0m\u001b[0;34m]\u001b[0m \u001b[0;34m=\u001b[0m \u001b[0mkwds\u001b[0m\u001b[0;34m[\u001b[0m\u001b[0;34m\"has_index_names\"\u001b[0m\u001b[0;34m]\u001b[0m\u001b[0;34m\u001b[0m\u001b[0;34m\u001b[0m\u001b[0m\n\u001b[1;32m    810\u001b[0m \u001b[0;34m\u001b[0m\u001b[0m\n\u001b[0;32m--> 811\u001b[0;31m         \u001b[0mself\u001b[0m\u001b[0;34m.\u001b[0m\u001b[0m_engine\u001b[0m \u001b[0;34m=\u001b[0m \u001b[0mself\u001b[0m\u001b[0;34m.\u001b[0m\u001b[0m_make_engine\u001b[0m\u001b[0;34m(\u001b[0m\u001b[0mself\u001b[0m\u001b[0;34m.\u001b[0m\u001b[0mengine\u001b[0m\u001b[0;34m)\u001b[0m\u001b[0;34m\u001b[0m\u001b[0;34m\u001b[0m\u001b[0m\n\u001b[0m\u001b[1;32m    812\u001b[0m \u001b[0;34m\u001b[0m\u001b[0m\n\u001b[1;32m    813\u001b[0m     \u001b[0;32mdef\u001b[0m \u001b[0mclose\u001b[0m\u001b[0;34m(\u001b[0m\u001b[0mself\u001b[0m\u001b[0;34m)\u001b[0m\u001b[0;34m:\u001b[0m\u001b[0;34m\u001b[0m\u001b[0;34m\u001b[0m\u001b[0m\n",
      "\u001b[0;32m/cvmfs/spt.opensciencegrid.org/py3-v4/RHEL_7_x86_64/lib/python3.10/site-packages/pandas/io/parsers/readers.py\u001b[0m in \u001b[0;36m_make_engine\u001b[0;34m(self, engine)\u001b[0m\n\u001b[1;32m   1038\u001b[0m             )\n\u001b[1;32m   1039\u001b[0m         \u001b[0;31m# error: Too many arguments for \"ParserBase\"\u001b[0m\u001b[0;34m\u001b[0m\u001b[0;34m\u001b[0m\u001b[0m\n\u001b[0;32m-> 1040\u001b[0;31m         \u001b[0;32mreturn\u001b[0m \u001b[0mmapping\u001b[0m\u001b[0;34m[\u001b[0m\u001b[0mengine\u001b[0m\u001b[0;34m]\u001b[0m\u001b[0;34m(\u001b[0m\u001b[0mself\u001b[0m\u001b[0;34m.\u001b[0m\u001b[0mf\u001b[0m\u001b[0;34m,\u001b[0m \u001b[0;34m**\u001b[0m\u001b[0mself\u001b[0m\u001b[0;34m.\u001b[0m\u001b[0moptions\u001b[0m\u001b[0;34m)\u001b[0m  \u001b[0;31m# type: ignore[call-arg]\u001b[0m\u001b[0;34m\u001b[0m\u001b[0;34m\u001b[0m\u001b[0m\n\u001b[0m\u001b[1;32m   1041\u001b[0m \u001b[0;34m\u001b[0m\u001b[0m\n\u001b[1;32m   1042\u001b[0m     \u001b[0;32mdef\u001b[0m \u001b[0m_failover_to_python\u001b[0m\u001b[0;34m(\u001b[0m\u001b[0mself\u001b[0m\u001b[0;34m)\u001b[0m\u001b[0;34m:\u001b[0m\u001b[0;34m\u001b[0m\u001b[0;34m\u001b[0m\u001b[0m\n",
      "\u001b[0;32m/cvmfs/spt.opensciencegrid.org/py3-v4/RHEL_7_x86_64/lib/python3.10/site-packages/pandas/io/parsers/c_parser_wrapper.py\u001b[0m in \u001b[0;36m__init__\u001b[0;34m(self, src, **kwds)\u001b[0m\n\u001b[1;32m     49\u001b[0m \u001b[0;34m\u001b[0m\u001b[0m\n\u001b[1;32m     50\u001b[0m         \u001b[0;31m# open handles\u001b[0m\u001b[0;34m\u001b[0m\u001b[0;34m\u001b[0m\u001b[0m\n\u001b[0;32m---> 51\u001b[0;31m         \u001b[0mself\u001b[0m\u001b[0;34m.\u001b[0m\u001b[0m_open_handles\u001b[0m\u001b[0;34m(\u001b[0m\u001b[0msrc\u001b[0m\u001b[0;34m,\u001b[0m \u001b[0mkwds\u001b[0m\u001b[0;34m)\u001b[0m\u001b[0;34m\u001b[0m\u001b[0;34m\u001b[0m\u001b[0m\n\u001b[0m\u001b[1;32m     52\u001b[0m         \u001b[0;32massert\u001b[0m \u001b[0mself\u001b[0m\u001b[0;34m.\u001b[0m\u001b[0mhandles\u001b[0m \u001b[0;32mis\u001b[0m \u001b[0;32mnot\u001b[0m \u001b[0;32mNone\u001b[0m\u001b[0;34m\u001b[0m\u001b[0;34m\u001b[0m\u001b[0m\n\u001b[1;32m     53\u001b[0m \u001b[0;34m\u001b[0m\u001b[0m\n",
      "\u001b[0;32m/cvmfs/spt.opensciencegrid.org/py3-v4/RHEL_7_x86_64/lib/python3.10/site-packages/pandas/io/parsers/base_parser.py\u001b[0m in \u001b[0;36m_open_handles\u001b[0;34m(self, src, kwds)\u001b[0m\n\u001b[1;32m    220\u001b[0m         \u001b[0mLet\u001b[0m \u001b[0mthe\u001b[0m \u001b[0mreaders\u001b[0m \u001b[0mopen\u001b[0m \u001b[0mIOHandles\u001b[0m \u001b[0mafter\u001b[0m \u001b[0mthey\u001b[0m \u001b[0mare\u001b[0m \u001b[0mdone\u001b[0m \u001b[0;32mwith\u001b[0m \u001b[0mtheir\u001b[0m \u001b[0mpotential\u001b[0m \u001b[0mraises\u001b[0m\u001b[0;34m.\u001b[0m\u001b[0;34m\u001b[0m\u001b[0;34m\u001b[0m\u001b[0m\n\u001b[1;32m    221\u001b[0m         \"\"\"\n\u001b[0;32m--> 222\u001b[0;31m         self.handles = get_handle(\n\u001b[0m\u001b[1;32m    223\u001b[0m             \u001b[0msrc\u001b[0m\u001b[0;34m,\u001b[0m\u001b[0;34m\u001b[0m\u001b[0;34m\u001b[0m\u001b[0m\n\u001b[1;32m    224\u001b[0m             \u001b[0;34m\"r\"\u001b[0m\u001b[0;34m,\u001b[0m\u001b[0;34m\u001b[0m\u001b[0;34m\u001b[0m\u001b[0m\n",
      "\u001b[0;32m/cvmfs/spt.opensciencegrid.org/py3-v4/RHEL_7_x86_64/lib/python3.10/site-packages/pandas/io/common.py\u001b[0m in \u001b[0;36mget_handle\u001b[0;34m(path_or_buf, mode, encoding, compression, memory_map, is_text, errors, storage_options)\u001b[0m\n\u001b[1;32m    700\u001b[0m         \u001b[0;32mif\u001b[0m \u001b[0mioargs\u001b[0m\u001b[0;34m.\u001b[0m\u001b[0mencoding\u001b[0m \u001b[0;32mand\u001b[0m \u001b[0;34m\"b\"\u001b[0m \u001b[0;32mnot\u001b[0m \u001b[0;32min\u001b[0m \u001b[0mioargs\u001b[0m\u001b[0;34m.\u001b[0m\u001b[0mmode\u001b[0m\u001b[0;34m:\u001b[0m\u001b[0;34m\u001b[0m\u001b[0;34m\u001b[0m\u001b[0m\n\u001b[1;32m    701\u001b[0m             \u001b[0;31m# Encoding\u001b[0m\u001b[0;34m\u001b[0m\u001b[0;34m\u001b[0m\u001b[0m\n\u001b[0;32m--> 702\u001b[0;31m             handle = open(\n\u001b[0m\u001b[1;32m    703\u001b[0m                 \u001b[0mhandle\u001b[0m\u001b[0;34m,\u001b[0m\u001b[0;34m\u001b[0m\u001b[0;34m\u001b[0m\u001b[0m\n\u001b[1;32m    704\u001b[0m                 \u001b[0mioargs\u001b[0m\u001b[0;34m.\u001b[0m\u001b[0mmode\u001b[0m\u001b[0;34m,\u001b[0m\u001b[0;34m\u001b[0m\u001b[0;34m\u001b[0m\u001b[0m\n",
      "\u001b[0;31mFileNotFoundError\u001b[0m: [Errno 2] No such file or directory: '/sptlocal/user/kaylank/data/megaclusters_inputs/reformatted/beams/SPT3G2020_90GHz_beam.tsv'"
     ]
    }
   ],
   "source": [
    "import clusterfinder_wrapper\n",
    "importlib.reload(clusterfinder_wrapper)\n",
    "import clusterfinder_wrapper\n",
    "global_units = 'uk'\n",
    "\n",
    "wi = clusterfinder_wrapper.wrap_inputs(SHEET_ID,SHEET_NAME,units=global_units)\n",
    "\n",
    "wi.get_map_array(apod_file='/home/kaylank/Temp/clusterfinding/cf_inputs/milo_apod_mask.bin',\n",
    "                 apod_pixel_file='/home/kaylank/Temp/clusterfinding/cf_inputs/milo_pixel_mask.bin',\n",
    "                 apod_size = 10,radius_arcmin=30,units='uk')\n",
    "\n",
    "wi.wrap_beams()\n",
    "wi.wrap_instrumental_noise()\n",
    "wi.finish_wrapping()"
   ]
  },
  {
   "cell_type": "markdown",
   "id": "422a9f6e",
   "metadata": {},
   "source": [
    "Now let's break down the functions:\n",
    "\n",
    "wi.get_map_array: This loads and prepares the input maps for cluster finding. Optional inputs currently include:<br><br>\n",
    "apod_file = None \n",
    "apod_pixel_file = None<br>\n",
    "\n",
    "This two functions will read in an apodization mask file, if you have them. The difference between apod_file and apod_pixel_file is that 'apod_file' is the gaussian tapered mask, while apod_pixel_file is simply an array of 1's and 0's the same shape as the mask. You can set these to None and the cluster finder will generate an apodization mask itself, but then you need to make sure you give it 'apod_size' and 'radius_arcmin'. Please check this as well if your map is a little funky shaped. It doesn't handled that well.<br><br>\n",
    "\n",
    "preform_pointing_check=False: This will check if your map is properly centered by matching point sources in the input map with Mel's v4 point source list. Currently not fully implemented, please keep this false. <br><br>\n",
    "\n",
    "apod_size = 10<br>\n",
    "radius_arcmin=20\n",
    "\n",
    "The way an apoization mask is created is as follows: \n",
    "An array of one's is created, the same size as the input map. The edges of the map, up to 'apod_size' is then set to 0 in order to create a border around the map. 'Radius_arcmin' is fed into the gaussian mask making function, and sets how large the gaussian taper is. Both of these values don't matter much, you can typically just keep them as 10 and 20 unless your map is weirdly shaped.\n"
   ]
  },
  {
   "cell_type": "markdown",
   "id": "7ccff99d",
   "metadata": {},
   "source": [
    "wi.wrap_beams: This loads and prepares the beams for cluster finding. Optional inputs include:<br><br>\n",
    "add_transfer: Defaults to False. If set to true, will add a transfer function to the beam input<br><br>\n",
    "theory: Defaults to False. If set to true, will create a theoretical beam based on the parameters below<br><br>\n",
    "lpf: Defaults to 20_000. This is the l lim for low-pass filtering<br><br>\n",
    "hpf: Defaults to 400. This is the l lim for high-pass filtering<br><br>\n",
    "isohpf: Defaults to 500. This is the l lim for isotropic-high-pass filtering<br><br>\n",
    "fwhm: Defaults to 1.2. This is the radius (in arcmin) of the fwhm of the beam<br><br>\n"
   ]
  },
  {
   "cell_type": "markdown",
   "id": "060ba2ca",
   "metadata": {
    "ExecuteTime": {
     "end_time": "2023-10-19T17:50:55.637136Z",
     "start_time": "2023-10-19T17:50:55.631865Z"
    }
   },
   "source": [
    "wi.wrap_instrumental_noise: Prepares instrumental noise file for cluster finding. Currently has to optional inputs\n",
    "    "
   ]
  },
  {
   "cell_type": "markdown",
   "id": "94d04b3d",
   "metadata": {},
   "source": [
    "wi.finish_wrapping: Throws all the inputs in a dictionary to be fed into the cluster finder. Currently has no optional inputs"
   ]
  },
  {
   "cell_type": "markdown",
   "id": "e79739e1",
   "metadata": {},
   "source": [
    "# Step 3: Run Cluster Finder"
   ]
  },
  {
   "cell_type": "markdown",
   "id": "2d58af32",
   "metadata": {},
   "source": [
    "Here is the full cluster finder class. Try running it."
   ]
  },
  {
   "cell_type": "code",
   "execution_count": null,
   "id": "920c4a30",
   "metadata": {
    "ExecuteTime": {
     "end_time": "2023-11-02T20:42:02.448294Z",
     "start_time": "2023-11-02T20:38:46.526527Z"
    }
   },
   "outputs": [],
   "source": [
    "import importlib\n",
    "importlib.reload(clusterfinder)\n",
    "\n",
    "fields = ['3g90','3g150','3g220']\n",
    "cf = clusterfinder.cluster_finder(fields, wi.final_setting_dic,units=global_units)\n",
    "cf.make_fsz()\n",
    "cf.make_maps(what_mask='milo_simple_mask')\n",
    "cf.make_beams(theory=False)\n",
    "cf.make_astro_noise()\n",
    "cf.make_instr_noise()\n",
    "cf.make_covar()\n",
    "cf.find_clusters(sn_cutoff=5,tcs=1)\n",
    "cf.plot_results()"
   ]
  },
  {
   "cell_type": "markdown",
   "id": "cf38aaaa",
   "metadata": {},
   "source": [
    "Congrats you found clusters! Let's break down the functions and their optional inputs again: \n",
    "\n",
    "clusterfinder.cluster_finder: Initilization function. Optional inputs include:\n",
    "psize: Defaults to 0.25 (arcmins).\n",
    "\n",
    "make_fsz: Creates the scaling for the thermal SZ effect as a function of frequency. Optional inputs include:\n",
    "do_rel: Defaults to False. If set to true, will preform a cluster finding search with the realitivistic correction for the tSZ. Please keep it false; the relativistic correction to the tSZ doesn't improve cluster finding search\n",
    "\n",
    "rel_kev: Defaults to None. If you do choose to use the realtivistic scaling, it needs the temperature of the cluster (in keV) in order to calculate the realtivistic correction\n",
    "\n",
    "make_maps: Loads in the maps from the wrapper function and creates a point source mask for clusterfinding. While this is currently not tested and fully optimized, the input is a string defining what type of point source mask you want. For now, please set this to 'no_mask'\n",
    "\n",
    "make_beams: Loads in the beams from the wrapper function. Optional inputs include:\n",
    "theory: Defaults to False. If set to true, will create a theoretical beam, similar to the wrapper function\n",
    "\n",
    "make_astro_noise: Uses SPT3G software to load in the astrophysical foregrounds. Currently has no optional inputs\n",
    "\n",
    "make_instrumental_noise: Loads in instrumental noise from the wrapper function. Currently has no optional inputs\n",
    "\n",
    "make_covar: Makes the covariance matrix for clusterfinding\n",
    "\n",
    "find_clusters: Does the cluster finding. Optional inputs include:\n",
    "sn_cutoff: The cutoff S/N for cluster finding\n",
    "tcs=1 The number of core sizes you want to iterate through. Defaults to 1 (0.25' core. Can go up to 12 to go to the 3' core)\n",
    "\n",
    "do_cilc: Defaults to False. If you set to true, will preform a cILC deprojection rather than minimum variance. Not yet implemented, please set to false. "
   ]
  },
  {
   "cell_type": "markdown",
   "id": "c7347ace",
   "metadata": {},
   "source": [
    "# Cluster Crossmatching"
   ]
  },
  {
   "cell_type": "markdown",
   "id": "0e895d75",
   "metadata": {},
   "source": [
    "This is the code that crossmatches your cluster catalog from above with recorded cluster catalogs. This is just a sanity check. Currently will cross match against the 2-year cluster finder results. Will flesh this out soon."
   ]
  },
  {
   "cell_type": "code",
   "execution_count": null,
   "id": "f7827706",
   "metadata": {
    "ExecuteTime": {
     "end_time": "2023-11-02T20:42:03.573372Z",
     "start_time": "2023-11-02T20:42:02.450409Z"
    }
   },
   "outputs": [],
   "source": [
    "import crossmatch_clusters\n",
    "ccc = crossmatch_clusters.compare_cluster_catalogs(cf,control_cat=cf.cat,file_name = None)\n",
    "ccc.load_catalog(recorded_dic='josh_3g',custom_file_name=None,comparison_cat=None) #Options in recorded dic now are 'pol' for the SPTpol catalog, and 'josh_3g' for the 3g catalog\n",
    "ccc.crossmatch()\n",
    "ccc.get_stats()"
   ]
  },
  {
   "cell_type": "markdown",
   "id": "1e9157ae",
   "metadata": {},
   "source": [
    "This plots the clusters that haven't been found, but aren't recorded in the catalog you're comparing against"
   ]
  },
  {
   "cell_type": "code",
   "execution_count": null,
   "id": "d2c1399d",
   "metadata": {
    "ExecuteTime": {
     "end_time": "2023-11-02T20:42:13.194326Z",
     "start_time": "2023-11-02T20:42:03.575203Z"
    }
   },
   "outputs": [],
   "source": [
    "num_sources = len(ccc.unique_comparison_sources)\n",
    "num_columns = 4\n",
    "num_rows = math.ceil(num_sources / num_columns)\n",
    "\n",
    "fig = plt.figure(figsize=(3 * num_columns, 3 * num_rows))\n",
    "plot_count = 1\n",
    "for cluster in ccc.unique_comparison_sources:\n",
    "    x = int(ccc.unique_comparison_sources[cluster]['xvals'])\n",
    "    y = int(ccc.unique_comparison_sources[cluster]['yvals'])\n",
    "    ax = fig.add_subplot(num_rows, num_columns, plot_count)\n",
    "    ax.imshow(cf.snmap, vmin=-10, vmax=10)\n",
    "    ax.scatter(x,y,color='red',label='Cluster Finder S/N: \\n'+str(round(cf.snmap[y][x],2)) ,s=2)\n",
    "    ax.set_title('Cluster Number: \\n' +cluster)\n",
    "    ax.set_xlim(x-50, x+50)\n",
    "    ax.set_ylim(y-50, y+50)\n",
    "    ax.set_xticks([])\n",
    "    ax.set_yticks([])\n",
    "    ax.legend()\n",
    "    plot_count += 1"
   ]
  },
  {
   "cell_type": "markdown",
   "id": "ce9e6494",
   "metadata": {},
   "source": [
    "# Source Subtraction"
   ]
  },
  {
   "cell_type": "markdown",
   "id": "7ff871bf",
   "metadata": {},
   "source": [
    "This code preform iterative source subtraction on input maps. Will write this full documentation soon."
   ]
  },
  {
   "cell_type": "markdown",
   "id": "3136d3df",
   "metadata": {},
   "source": [
    "First, run a point source finder on the maps in order to extract fluxes for source subtraction. \n",
    "Please only run one field at a time, otherwise the fluxes will not be accurate. In this example we will run 3g90 alone. \n",
    "Please run the wrapper before you run this or it won't work!"
   ]
  },
  {
   "cell_type": "code",
   "execution_count": null,
   "id": "1a2ed0f9",
   "metadata": {
    "ExecuteTime": {
     "end_time": "2023-11-02T20:43:15.246202Z",
     "start_time": "2023-11-02T20:42:13.197380Z"
    }
   },
   "outputs": [],
   "source": [
    "import importlib\n",
    "importlib.reload(clusterfinder)\n",
    "\n",
    "fields = ['3g90']\n",
    "cf = clusterfinder.cluster_finder(fields, wi.final_setting_dic,units=global_units)\n",
    "cf.make_fsz()\n",
    "cf.make_maps(what_mask='no_mask')\n",
    "cf.make_beams(theory=False)\n",
    "cf.make_astro_noise()\n",
    "cf.make_instr_noise()\n",
    "cf.make_covar()\n",
    "cf.find_clusters(sn_cutoff=10,tcs=1,point_source_finder=True)\n",
    "cf.plot_results()"
   ]
  },
  {
   "cell_type": "markdown",
   "id": "a49d5ef7",
   "metadata": {},
   "source": [
    "This is the source subtraction code. Right now, we are defaulting to run iterative source subtraction. The commented lines will run Mel's v4 source list."
   ]
  },
  {
   "cell_type": "code",
   "execution_count": null,
   "id": "49c8bffc",
   "metadata": {
    "ExecuteTime": {
     "end_time": "2023-11-02T20:50:22.852705Z",
     "start_time": "2023-11-02T20:43:15.251836Z"
    }
   },
   "outputs": [],
   "source": [
    "mel_flux = False\n",
    "#mel_flux = True\n",
    "\n",
    "\n",
    "import source_subtraction\n",
    "importlib.reload(source_subtraction)\n",
    "\n",
    "ss = source_subtraction.source_subtraction(cf,what_field=fields[0],\n",
    "                        sn_threshold = 5,\n",
    "                        temp_threshold = 7,\n",
    "                        mel_flux=mel_flux,\n",
    "                        what_pts_file=None,\n",
    "                        verbose=True)\n",
    "\n",
    "ss.make_full_source_catalog()\n",
    "ss.make_subfield_catalog()\n",
    "ss.set_sn_threshold()\n",
    "ss.remove_interpolated_sources()\n",
    "\n",
    "if ss.mel_flux == False:\n",
    "    ss.remove_double_sources()\n",
    "    \n",
    "ss.make_ss_template()\n",
    "#ss.run_ss(sn_thresholds=[0])\n",
    "\n",
    "ss.run_ss(sn_thresholds=[30,5.5,5,0])"
   ]
  },
  {
   "cell_type": "markdown",
   "id": "7db7f455",
   "metadata": {},
   "source": [
    "Here is how I check residuals for the map. "
   ]
  },
  {
   "cell_type": "code",
   "execution_count": null,
   "id": "b0177f91",
   "metadata": {
    "ExecuteTime": {
     "end_time": "2023-11-02T20:50:59.982523Z",
     "start_time": "2023-11-02T20:50:22.869171Z"
    }
   },
   "outputs": [],
   "source": [
    "import source_subtraction\n",
    "importlib.reload(source_subtraction)\n",
    "what_field = fields[0]\n",
    "what_map = ss.ss \n",
    "\n",
    "tss = source_subtraction.test_source_sub(cf,ss,what_map=what_field)\n",
    "tss.rerun_map(matrix=what_map,scale=1)\n",
    "tss.test_subtraction()\n",
    "tss.make_plot('wing_sn', fields[0]+'_wing_sn',save_fig=False)"
   ]
  },
  {
   "cell_type": "code",
   "execution_count": null,
   "id": "894447b6",
   "metadata": {
    "ExecuteTime": {
     "end_time": "2023-11-02T20:51:00.846883Z",
     "start_time": "2023-11-02T20:50:59.984608Z"
    }
   },
   "outputs": [],
   "source": [
    "tss.make_plot('cent_sn', fields[0]+'_cent_sn',save_fig=False)"
   ]
  },
  {
   "cell_type": "code",
   "execution_count": null,
   "id": "b72e41bb",
   "metadata": {
    "ExecuteTime": {
     "end_time": "2023-11-02T21:01:19.269343Z",
     "start_time": "2023-11-02T21:01:16.874689Z"
    }
   },
   "outputs": [],
   "source": [
    "plt.rcParams['figure.figsize'] = (4,4)\n",
    "bad_sources = []\n",
    "\n",
    "\n",
    "for source in ss.sub_sources:\n",
    "    x = ss.sub_sources[source]['x']\n",
    "    y = ss.sub_sources[source]['y']\n",
    "     #This is the bad source condition. You can play around with this. Now it's set to say that if a source's wing is above 3 sigma, it will flag it as an improperly subtracted source.\n",
    "    if abs(tss.new_dic[source]['wing_sn']) > 3:\n",
    "        bad_sources.append(source)    \n",
    "        \n",
    "num_sources = len(bad_sources)\n",
    "num_columns = 4\n",
    "num_rows = math.ceil(num_sources / num_columns)\n",
    "\n",
    "fig = plt.figure(figsize=(3 * num_columns, 3 * num_rows))\n",
    "plot_count = 1\n",
    "for source in bad_sources:\n",
    "    x = ss.sub_sources[source]['x']\n",
    "    y = ss.sub_sources[source]['y']\n",
    "    ax = fig.add_subplot(num_rows, num_columns, plot_count)\n",
    "    ax.imshow(tss.snmap, vmin=-10, vmax=10)\n",
    "    ax.set_title('Source Number: \\n' +source)\n",
    "    ax.set_xlim(x-50, x+50)\n",
    "    ax.set_ylim(y-50, y+50)\n",
    "    ax.set_xticks([])\n",
    "    ax.set_yticks([])\n",
    "\n",
    "    plot_count += 1\n",
    "\n",
    "# Display the mosaic\n",
    "plt.tight_layout()\n",
    "plt.show()"
   ]
  },
  {
   "cell_type": "code",
   "execution_count": null,
   "id": "21ad1c38",
   "metadata": {
    "ExecuteTime": {
     "end_time": "2023-11-02T21:01:58.241760Z",
     "start_time": "2023-11-02T21:01:51.907280Z"
    }
   },
   "outputs": [],
   "source": [
    "plt.rcParams['figure.figsize'] = (50,50)\n",
    "plt.imshow(tss.snmap,vmin=-8,vmax=8,cmap='Greys')"
   ]
  },
  {
   "cell_type": "code",
   "execution_count": null,
   "id": "22ae2ea0",
   "metadata": {},
   "outputs": [],
   "source": []
  }
 ],
 "metadata": {
  "kernelspec": {
   "display_name": "aplpy",
   "language": "python",
   "name": "aplpy"
  },
  "language_info": {
   "codemirror_mode": {
    "name": "ipython",
    "version": 3
   },
   "file_extension": ".py",
   "mimetype": "text/x-python",
   "name": "python",
   "nbconvert_exporter": "python",
   "pygments_lexer": "ipython3",
   "version": "3.10.13"
  },
  "toc": {
   "base_numbering": 1,
   "nav_menu": {},
   "number_sections": true,
   "sideBar": true,
   "skip_h1_title": false,
   "title_cell": "Table of Contents",
   "title_sidebar": "Contents",
   "toc_cell": true,
   "toc_position": {},
   "toc_section_display": true,
   "toc_window_display": false
  }
 },
 "nbformat": 4,
 "nbformat_minor": 5
}
